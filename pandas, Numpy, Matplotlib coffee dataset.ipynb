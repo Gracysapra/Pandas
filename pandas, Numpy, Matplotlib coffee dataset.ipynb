{
 "cells": [
  {
   "cell_type": "code",
   "execution_count": 2,
   "id": "12c13b60",
   "metadata": {},
   "outputs": [],
   "source": [
    "import pandas as pd \n",
    "import numpy as np"
   ]
  },
  {
   "cell_type": "code",
   "execution_count": 13,
   "id": "ee850280",
   "metadata": {
    "scrolled": true
   },
   "outputs": [
    {
     "data": {
      "text/html": [
       "<div>\n",
       "<style scoped>\n",
       "    .dataframe tbody tr th:only-of-type {\n",
       "        vertical-align: middle;\n",
       "    }\n",
       "\n",
       "    .dataframe tbody tr th {\n",
       "        vertical-align: top;\n",
       "    }\n",
       "\n",
       "    .dataframe thead th {\n",
       "        text-align: right;\n",
       "    }\n",
       "</style>\n",
       "<table border=\"1\" class=\"dataframe\">\n",
       "  <thead>\n",
       "    <tr style=\"text-align: right;\">\n",
       "      <th></th>\n",
       "      <th>Area Code</th>\n",
       "      <th>Date</th>\n",
       "      <th>Market</th>\n",
       "      <th>Market Size</th>\n",
       "      <th>Product</th>\n",
       "      <th>Product Line</th>\n",
       "      <th>Product Type</th>\n",
       "      <th>State</th>\n",
       "      <th>Type</th>\n",
       "      <th>Budget COGS</th>\n",
       "      <th>Budget Margin</th>\n",
       "      <th>Budget Profit</th>\n",
       "      <th>Budget Sales</th>\n",
       "      <th>COGS</th>\n",
       "      <th>Inventory</th>\n",
       "      <th>Margin</th>\n",
       "      <th>Marketing</th>\n",
       "      <th>Profit</th>\n",
       "      <th>Sales</th>\n",
       "      <th>Total Expenses</th>\n",
       "    </tr>\n",
       "  </thead>\n",
       "  <tbody>\n",
       "    <tr>\n",
       "      <th>0</th>\n",
       "      <td>NaN</td>\n",
       "      <td>40909</td>\n",
       "      <td>Central</td>\n",
       "      <td>Major Market</td>\n",
       "      <td>Amaretto</td>\n",
       "      <td>Beans</td>\n",
       "      <td>Coffee</td>\n",
       "      <td>Colorado</td>\n",
       "      <td>Regular</td>\n",
       "      <td>90</td>\n",
       "      <td>130</td>\n",
       "      <td>100</td>\n",
       "      <td>220</td>\n",
       "      <td>89</td>\n",
       "      <td>777</td>\n",
       "      <td>130</td>\n",
       "      <td>24</td>\n",
       "      <td>94</td>\n",
       "      <td>219</td>\n",
       "      <td>36</td>\n",
       "    </tr>\n",
       "    <tr>\n",
       "      <th>1</th>\n",
       "      <td>970.0</td>\n",
       "      <td>40909</td>\n",
       "      <td>Central</td>\n",
       "      <td>Major Market</td>\n",
       "      <td>Colombian</td>\n",
       "      <td>Beans</td>\n",
       "      <td>Coffee</td>\n",
       "      <td>Colorado</td>\n",
       "      <td>Regular</td>\n",
       "      <td>80</td>\n",
       "      <td>110</td>\n",
       "      <td>80</td>\n",
       "      <td>190</td>\n",
       "      <td>83</td>\n",
       "      <td>623</td>\n",
       "      <td>107</td>\n",
       "      <td>27</td>\n",
       "      <td>68</td>\n",
       "      <td>190</td>\n",
       "      <td>39</td>\n",
       "    </tr>\n",
       "    <tr>\n",
       "      <th>2</th>\n",
       "      <td>970.0</td>\n",
       "      <td>40909</td>\n",
       "      <td>Central</td>\n",
       "      <td>Major Market</td>\n",
       "      <td>Decaf Irish Cream</td>\n",
       "      <td>Beans</td>\n",
       "      <td>Coffee</td>\n",
       "      <td>Colorado</td>\n",
       "      <td>Decaf</td>\n",
       "      <td>100</td>\n",
       "      <td>140</td>\n",
       "      <td>110</td>\n",
       "      <td>240</td>\n",
       "      <td>95</td>\n",
       "      <td>821</td>\n",
       "      <td>139</td>\n",
       "      <td>26</td>\n",
       "      <td>101</td>\n",
       "      <td>234</td>\n",
       "      <td>38</td>\n",
       "    </tr>\n",
       "    <tr>\n",
       "      <th>3</th>\n",
       "      <td>303.0</td>\n",
       "      <td>40909</td>\n",
       "      <td>Central</td>\n",
       "      <td>Major Market</td>\n",
       "      <td>Green Tea</td>\n",
       "      <td>Leaves</td>\n",
       "      <td>Tea</td>\n",
       "      <td>Colorado</td>\n",
       "      <td>Regular</td>\n",
       "      <td>30</td>\n",
       "      <td>50</td>\n",
       "      <td>30</td>\n",
       "      <td>80</td>\n",
       "      <td>44</td>\n",
       "      <td>623</td>\n",
       "      <td>56</td>\n",
       "      <td>14</td>\n",
       "      <td>30</td>\n",
       "      <td>100</td>\n",
       "      <td>26</td>\n",
       "    </tr>\n",
       "    <tr>\n",
       "      <th>4</th>\n",
       "      <td>303.0</td>\n",
       "      <td>40909</td>\n",
       "      <td>Central</td>\n",
       "      <td>Major Market</td>\n",
       "      <td>Caffe Mocha</td>\n",
       "      <td>Beans</td>\n",
       "      <td>Espresso</td>\n",
       "      <td>Colorado</td>\n",
       "      <td>Regular</td>\n",
       "      <td>60</td>\n",
       "      <td>90</td>\n",
       "      <td>70</td>\n",
       "      <td>150</td>\n",
       "      <td>54</td>\n",
       "      <td>456</td>\n",
       "      <td>80</td>\n",
       "      <td>15</td>\n",
       "      <td>54</td>\n",
       "      <td>134</td>\n",
       "      <td>26</td>\n",
       "    </tr>\n",
       "    <tr>\n",
       "      <th>...</th>\n",
       "      <td>...</td>\n",
       "      <td>...</td>\n",
       "      <td>...</td>\n",
       "      <td>...</td>\n",
       "      <td>...</td>\n",
       "      <td>...</td>\n",
       "      <td>...</td>\n",
       "      <td>...</td>\n",
       "      <td>...</td>\n",
       "      <td>...</td>\n",
       "      <td>...</td>\n",
       "      <td>...</td>\n",
       "      <td>...</td>\n",
       "      <td>...</td>\n",
       "      <td>...</td>\n",
       "      <td>...</td>\n",
       "      <td>...</td>\n",
       "      <td>...</td>\n",
       "      <td>...</td>\n",
       "      <td>...</td>\n",
       "    </tr>\n",
       "    <tr>\n",
       "      <th>4243</th>\n",
       "      <td>206.0</td>\n",
       "      <td>41609</td>\n",
       "      <td>West</td>\n",
       "      <td>Small Market</td>\n",
       "      <td>Caffe Latte</td>\n",
       "      <td>Beans</td>\n",
       "      <td>Espresso</td>\n",
       "      <td>Washington</td>\n",
       "      <td>Regular</td>\n",
       "      <td>20</td>\n",
       "      <td>30</td>\n",
       "      <td>20</td>\n",
       "      <td>50</td>\n",
       "      <td>24</td>\n",
       "      <td>567</td>\n",
       "      <td>32</td>\n",
       "      <td>7</td>\n",
       "      <td>19</td>\n",
       "      <td>60</td>\n",
       "      <td>19</td>\n",
       "    </tr>\n",
       "    <tr>\n",
       "      <th>4244</th>\n",
       "      <td>509.0</td>\n",
       "      <td>41609</td>\n",
       "      <td>West</td>\n",
       "      <td>Small Market</td>\n",
       "      <td>Caffe Mocha</td>\n",
       "      <td>Beans</td>\n",
       "      <td>Espresso</td>\n",
       "      <td>Washington</td>\n",
       "      <td>Regular</td>\n",
       "      <td>60</td>\n",
       "      <td>80</td>\n",
       "      <td>30</td>\n",
       "      <td>140</td>\n",
       "      <td>65</td>\n",
       "      <td>403</td>\n",
       "      <td>80</td>\n",
       "      <td>24</td>\n",
       "      <td>34</td>\n",
       "      <td>155</td>\n",
       "      <td>57</td>\n",
       "    </tr>\n",
       "    <tr>\n",
       "      <th>4245</th>\n",
       "      <td>360.0</td>\n",
       "      <td>41609</td>\n",
       "      <td>West</td>\n",
       "      <td>Small Market</td>\n",
       "      <td>Decaf Espresso</td>\n",
       "      <td>Beans</td>\n",
       "      <td>Espresso</td>\n",
       "      <td>Washington</td>\n",
       "      <td>Decaf</td>\n",
       "      <td>70</td>\n",
       "      <td>100</td>\n",
       "      <td>60</td>\n",
       "      <td>170</td>\n",
       "      <td>80</td>\n",
       "      <td>1079</td>\n",
       "      <td>96</td>\n",
       "      <td>24</td>\n",
       "      <td>76</td>\n",
       "      <td>188</td>\n",
       "      <td>45</td>\n",
       "    </tr>\n",
       "    <tr>\n",
       "      <th>4246</th>\n",
       "      <td>360.0</td>\n",
       "      <td>41609</td>\n",
       "      <td>West</td>\n",
       "      <td>Small Market</td>\n",
       "      <td>Colombian</td>\n",
       "      <td>Beans</td>\n",
       "      <td>Coffee</td>\n",
       "      <td>Washington</td>\n",
       "      <td>Regular</td>\n",
       "      <td>80</td>\n",
       "      <td>120</td>\n",
       "      <td>80</td>\n",
       "      <td>200</td>\n",
       "      <td>72</td>\n",
       "      <td>461</td>\n",
       "      <td>104</td>\n",
       "      <td>23</td>\n",
       "      <td>86</td>\n",
       "      <td>188</td>\n",
       "      <td>46</td>\n",
       "    </tr>\n",
       "    <tr>\n",
       "      <th>4247</th>\n",
       "      <td>206.0</td>\n",
       "      <td>41609</td>\n",
       "      <td>West</td>\n",
       "      <td>Small Market</td>\n",
       "      <td>Decaf Irish Cream</td>\n",
       "      <td>Beans</td>\n",
       "      <td>Coffee</td>\n",
       "      <td>Washington</td>\n",
       "      <td>Decaf</td>\n",
       "      <td>120</td>\n",
       "      <td>170</td>\n",
       "      <td>50</td>\n",
       "      <td>290</td>\n",
       "      <td>105</td>\n",
       "      <td>716</td>\n",
       "      <td>145</td>\n",
       "      <td>95</td>\n",
       "      <td>30</td>\n",
       "      <td>266</td>\n",
       "      <td>125</td>\n",
       "    </tr>\n",
       "  </tbody>\n",
       "</table>\n",
       "<p>4248 rows × 20 columns</p>\n",
       "</div>"
      ],
      "text/plain": [
       "      Area Code   Date   Market   Market Size            Product Product Line  \\\n",
       "0           NaN  40909  Central  Major Market           Amaretto        Beans   \n",
       "1         970.0  40909  Central  Major Market          Colombian        Beans   \n",
       "2         970.0  40909  Central  Major Market  Decaf Irish Cream        Beans   \n",
       "3         303.0  40909  Central  Major Market          Green Tea       Leaves   \n",
       "4         303.0  40909  Central  Major Market        Caffe Mocha        Beans   \n",
       "...         ...    ...      ...           ...                ...          ...   \n",
       "4243      206.0  41609     West  Small Market        Caffe Latte        Beans   \n",
       "4244      509.0  41609     West  Small Market        Caffe Mocha        Beans   \n",
       "4245      360.0  41609     West  Small Market     Decaf Espresso        Beans   \n",
       "4246      360.0  41609     West  Small Market          Colombian        Beans   \n",
       "4247      206.0  41609     West  Small Market  Decaf Irish Cream        Beans   \n",
       "\n",
       "     Product Type       State     Type  Budget COGS  Budget Margin  \\\n",
       "0          Coffee    Colorado  Regular           90            130   \n",
       "1          Coffee    Colorado  Regular           80            110   \n",
       "2          Coffee    Colorado    Decaf          100            140   \n",
       "3             Tea    Colorado  Regular           30             50   \n",
       "4        Espresso    Colorado  Regular           60             90   \n",
       "...           ...         ...      ...          ...            ...   \n",
       "4243     Espresso  Washington  Regular           20             30   \n",
       "4244     Espresso  Washington  Regular           60             80   \n",
       "4245     Espresso  Washington    Decaf           70            100   \n",
       "4246       Coffee  Washington  Regular           80            120   \n",
       "4247       Coffee  Washington    Decaf          120            170   \n",
       "\n",
       "      Budget Profit  Budget Sales  COGS  Inventory  Margin  Marketing  Profit  \\\n",
       "0               100           220    89        777     130         24      94   \n",
       "1                80           190    83        623     107         27      68   \n",
       "2               110           240    95        821     139         26     101   \n",
       "3                30            80    44        623      56         14      30   \n",
       "4                70           150    54        456      80         15      54   \n",
       "...             ...           ...   ...        ...     ...        ...     ...   \n",
       "4243             20            50    24        567      32          7      19   \n",
       "4244             30           140    65        403      80         24      34   \n",
       "4245             60           170    80       1079      96         24      76   \n",
       "4246             80           200    72        461     104         23      86   \n",
       "4247             50           290   105        716     145         95      30   \n",
       "\n",
       "      Sales  Total Expenses  \n",
       "0       219              36  \n",
       "1       190              39  \n",
       "2       234              38  \n",
       "3       100              26  \n",
       "4       134              26  \n",
       "...     ...             ...  \n",
       "4243     60              19  \n",
       "4244    155              57  \n",
       "4245    188              45  \n",
       "4246    188              46  \n",
       "4247    266             125  \n",
       "\n",
       "[4248 rows x 20 columns]"
      ]
     },
     "execution_count": 13,
     "metadata": {},
     "output_type": "execute_result"
    }
   ],
   "source": [
    "# read the dataset\n",
    "data= pd.read_csv(\"C:\\\\python + ML\\\\Coffee.csv\")\n",
    "data"
   ]
  },
  {
   "cell_type": "code",
   "execution_count": 14,
   "id": "dfde3021",
   "metadata": {
    "scrolled": true
   },
   "outputs": [
    {
     "name": "stdout",
     "output_type": "stream",
     "text": [
      "<class 'pandas.core.frame.DataFrame'>\n",
      "RangeIndex: 4248 entries, 0 to 4247\n",
      "Data columns (total 20 columns):\n",
      " #   Column          Non-Null Count  Dtype  \n",
      "---  ------          --------------  -----  \n",
      " 0   Area Code       4247 non-null   float64\n",
      " 1   Date            4248 non-null   int64  \n",
      " 2   Market          4248 non-null   object \n",
      " 3   Market Size     4248 non-null   object \n",
      " 4   Product         4248 non-null   object \n",
      " 5   Product Line    4248 non-null   object \n",
      " 6   Product Type    4248 non-null   object \n",
      " 7   State           4248 non-null   object \n",
      " 8   Type            4248 non-null   object \n",
      " 9   Budget COGS     4248 non-null   int64  \n",
      " 10  Budget Margin   4248 non-null   int64  \n",
      " 11  Budget Profit   4248 non-null   int64  \n",
      " 12  Budget Sales    4248 non-null   int64  \n",
      " 13  COGS            4248 non-null   int64  \n",
      " 14  Inventory       4248 non-null   int64  \n",
      " 15  Margin          4248 non-null   int64  \n",
      " 16  Marketing       4248 non-null   int64  \n",
      " 17  Profit          4248 non-null   int64  \n",
      " 18  Sales           4248 non-null   int64  \n",
      " 19  Total Expenses  4248 non-null   int64  \n",
      "dtypes: float64(1), int64(12), object(7)\n",
      "memory usage: 663.9+ KB\n"
     ]
    }
   ],
   "source": [
    "# handling null values\n",
    "data.info()"
   ]
  },
  {
   "cell_type": "code",
   "execution_count": 42,
   "id": "fc9b4684",
   "metadata": {},
   "outputs": [
    {
     "data": {
      "image/png": "[encoded data removed]",
      "text/plain": [
       "<Figure size 432x288 with 1 Axes>"
      ]
     },
     "metadata": {
      "needs_background": "light"
     },
     "output_type": "display_data"
    }
   ],
   "source": [
    "# depict diff market types and their count on the bar chart\n",
    "import matplotlib.pyplot as plt\n",
    "mcounts = data[\"Market\"].value_counts()\n",
    "\n",
    "plt.bar(mcounts.index, mcounts)\n",
    "plt.grid(True)\n",
    "plt.show()"
   ]
  },
  {
   "cell_type": "code",
   "execution_count": 43,
   "id": "368e5f2d",
   "metadata": {},
   "outputs": [
    {
     "data": {
      "image/png": "[encoded data removed]",
      "text/plain": [
       "<Figure size 432x288 with 1 Axes>"
      ]
     },
     "metadata": {
      "needs_background": "light"
     },
     "output_type": "display_data"
    }
   ],
   "source": [
    "# depict diff product types and their count on line chart\n",
    "ptype= data[\"Product Type\"].value_counts()\n",
    "\n",
    "plt.plot(ptype.index, ptype)\n",
    "plt.grid(True)\n",
    "plt.show()"
   ]
  },
  {
   "cell_type": "code",
   "execution_count": 25,
   "id": "249fe629",
   "metadata": {},
   "outputs": [
    {
     "data": {
      "image/png": "[encoded data removed]",
      "text/plain": [
       "<Figure size 432x288 with 1 Axes>"
      ]
     },
     "metadata": {},
     "output_type": "display_data"
    }
   ],
   "source": [
    "#depict different state and their count on pie chart\n",
    "scount= data[\"State\"].value_counts()\n",
    "\n",
    "plt.pie(scount, labels= scount.index)\n",
    "plt.show()"
   ]
  },
  {
   "cell_type": "code",
   "execution_count": 44,
   "id": "ebf0f2c4",
   "metadata": {},
   "outputs": [
    {
     "data": {
      "image/png": "[encoded data removed]",
      "text/plain": [
       "<Figure size 432x288 with 1 Axes>"
      ]
     },
     "metadata": {
      "needs_background": "light"
     },
     "output_type": "display_data"
    }
   ],
   "source": [
    "#depict market wise sum of profit and depict the result on bar chart\n",
    "market= data.groupby([\"Market\"])[\"Profit\"].sum()\n",
    "\n",
    "plt.bar(market.index, market.values)\n",
    "plt.grid(True)\n",
    "plt.show()"
   ]
  },
  {
   "cell_type": "code",
   "execution_count": 45,
   "id": "e307ab57",
   "metadata": {},
   "outputs": [
    {
     "data": {
      "image/png": "[encoded data removed]",
      "text/plain": [
       "<Figure size 432x288 with 1 Axes>"
      ]
     },
     "metadata": {
      "needs_background": "light"
     },
     "output_type": "display_data"
    }
   ],
   "source": [
    "# depict product wise mean of sales and depict the result on bar chart and line chart superimposed\n",
    "product= data.groupby([\"Product\"])[\"Sales\"].mean()\n",
    "\n",
    "plt.plot(product.index, product.values, color=\"red\")\n",
    "plt.bar(product.index, product.values)\n",
    "plt.grid(True)\n",
    "plt.show()\n"
   ]
  },
  {
   "cell_type": "code",
   "execution_count": 55,
   "id": "e3c8c291",
   "metadata": {
    "scrolled": false
   },
   "outputs": [
    {
     "data": {
      "image/png": "[encoded data removed]",
      "text/plain": [
       "<Figure size 432x288 with 1 Axes>"
      ]
     },
     "metadata": {
      "needs_background": "light"
     },
     "output_type": "display_data"
    }
   ],
   "source": [
    "# depict profit vs sales on a scatter chart where product is \"regular espresso\"\n",
    "expresso= data['Product Type'] == 'Espresso' \n",
    "regular= data['Type'] == 'Regular'\n",
    "r_expresso= data[expresso & regular]\n",
    "\n",
    "sales=r_expresso[\"Sales\"]\n",
    "profit=r_expresso[\"Profit\"]\n",
    "plt.scatter(sales, profit, color= \"yellow\")\n",
    "plt.show()\n"
   ]
  },
  {
   "cell_type": "markdown",
   "id": "cf0873fd",
   "metadata": {},
   "source": [
    "#### Depcit Budget Profit vs Budget Sales on a Scatter Chart where State is California and Product is 'Earl Grey'"
   ]
  },
  {
   "cell_type": "code",
   "execution_count": null,
   "id": "e5efe78b",
   "metadata": {},
   "outputs": [],
   "source": []
  },
  {
   "cell_type": "markdown",
   "id": "aae46199",
   "metadata": {},
   "source": [
    "#### 10. Depcit Market wise mean of Budget Sales and mean of Sales in a stacked bar chart"
   ]
  },
  {
   "cell_type": "code",
   "execution_count": null,
   "id": "0beb4712",
   "metadata": {},
   "outputs": [],
   "source": []
  },
  {
   "cell_type": "markdown",
   "id": "8c71a896",
   "metadata": {},
   "source": [
    "#### Plot the Frequency distribution of Total Expenses"
   ]
  },
  {
   "cell_type": "code",
   "execution_count": null,
   "id": "0beaa192",
   "metadata": {},
   "outputs": [],
   "source": []
  },
  {
   "cell_type": "markdown",
   "id": "997cd53f",
   "metadata": {},
   "source": [
    "#### Compare Frequency Distribution of Profit and Budget Profit on a histogram for the Oregon State"
   ]
  },
  {
   "cell_type": "code",
   "execution_count": null,
   "id": "45593fd5",
   "metadata": {},
   "outputs": [],
   "source": []
  },
  {
   "cell_type": "markdown",
   "id": "26238e79",
   "metadata": {},
   "source": [
    "#### Compare ##Frequency of COGS and Budget COGS on a histogram for the Eastern Market for the Product Cafe Mocha"
   ]
  },
  {
   "cell_type": "code",
   "execution_count": null,
   "id": "7567a7b5",
   "metadata": {},
   "outputs": [],
   "source": []
  },
  {
   "cell_type": "markdown",
   "id": "6d1c5c8f",
   "metadata": {},
   "source": [
    "#### Compare Sales vs Profit on a histogram for the Eastern or Central Market and for Decaf Type"
   ]
  },
  {
   "cell_type": "code",
   "execution_count": null,
   "id": "b74fcec1",
   "metadata": {},
   "outputs": [],
   "source": []
  },
  {
   "cell_type": "markdown",
   "id": "528e9a24",
   "metadata": {},
   "source": [
    "#### 15. Depict the quartile distribution of COGS where Sales is greater than 400"
   ]
  },
  {
   "cell_type": "code",
   "execution_count": null,
   "id": "a3d471b7",
   "metadata": {},
   "outputs": [],
   "source": []
  },
  {
   "cell_type": "markdown",
   "id": "75e11c04",
   "metadata": {},
   "source": [
    "####  16. Depict the quartile distribution of Budget Profit for Decaf Espresso"
   ]
  },
  {
   "cell_type": "code",
   "execution_count": null,
   "id": "c6db290b",
   "metadata": {},
   "outputs": [],
   "source": []
  },
  {
   "cell_type": "markdown",
   "id": "a7cf7301",
   "metadata": {},
   "source": [
    "#### 17. Find the Market, Product and Type where Sales is maximum"
   ]
  },
  {
   "cell_type": "code",
   "execution_count": null,
   "id": "2f96fb8a",
   "metadata": {},
   "outputs": [],
   "source": []
  },
  {
   "cell_type": "markdown",
   "id": "3e5d1a77",
   "metadata": {},
   "source": [
    "#### 18. Find State and Market with Maximum Profit or Maximum Budget Profit"
   ]
  },
  {
   "cell_type": "code",
   "execution_count": 1,
   "id": "2a1ebbc1",
   "metadata": {},
   "outputs": [],
   "source": []
  },
  {
   "cell_type": "markdown",
   "id": "98e85946",
   "metadata": {},
   "source": [
    "#### 19. Find Product, State and Market where Total Exepnses are minimum"
   ]
  },
  {
   "cell_type": "code",
   "execution_count": null,
   "id": "42ce6569",
   "metadata": {},
   "outputs": [],
   "source": []
  },
  {
   "cell_type": "markdown",
   "id": "1484b510",
   "metadata": {},
   "source": [
    "#### 20. Statisically infer the State, Product and Market chosen to further expnad/invest into the Coffee Business based on Sales, Profit and Total Expenses"
   ]
  },
  {
   "cell_type": "code",
   "execution_count": null,
   "id": "87152848",
   "metadata": {},
   "outputs": [],
   "source": []
  },
  {
   "cell_type": "markdown",
   "id": "72555b6c",
   "metadata": {},
   "source": [
    "#### 21. Statisically infer the State, Product and Market chosen to further withhold the Coffee Business based on Sales, Profit and Total Expenses."
   ]
  },
  {
   "cell_type": "code",
   "execution_count": null,
   "id": "90e9a0b6",
   "metadata": {},
   "outputs": [],
   "source": []
  },
  {
   "cell_type": "markdown",
   "id": "7e55f93c",
   "metadata": {},
   "source": [
    "## Pandas Plot :- "
   ]
  },
  {
   "cell_type": "code",
   "execution_count": null,
   "id": "5ea19b45",
   "metadata": {},
   "outputs": [],
   "source": [
    "####"
   ]
  },
  {
   "cell_type": "code",
   "execution_count": null,
   "id": "6ee7e8cf",
   "metadata": {},
   "outputs": [],
   "source": [
    "####"
   ]
  },
  {
   "cell_type": "code",
   "execution_count": null,
   "id": "de4a4a9e",
   "metadata": {},
   "outputs": [],
   "source": []
  },
  {
   "cell_type": "code",
   "execution_count": null,
   "id": "c12e2a73",
   "metadata": {},
   "outputs": [],
   "source": []
  },
  {
   "cell_type": "code",
   "execution_count": null,
   "id": "68b70d58",
   "metadata": {},
   "outputs": [],
   "source": []
  },
  {
   "cell_type": "code",
   "execution_count": null,
   "id": "3a410c19",
   "metadata": {},
   "outputs": [],
   "source": []
  }
 ],
 "metadata": {
  "kernelspec": {
   "display_name": "Python 3 (ipykernel)",
   "language": "python",
   "name": "python3"
  },
  "language_info": {
   "codemirror_mode": {
    "name": "ipython",
    "version": 3
   },
   "file_extension": ".py",
   "mimetype": "text/x-python",
   "name": "python",
   "nbconvert_exporter": "python",
   "pygments_lexer": "ipython3",
   "version": "3.9.12"
  }
 },
 "nbformat": 4,
 "nbformat_minor": 5
}
